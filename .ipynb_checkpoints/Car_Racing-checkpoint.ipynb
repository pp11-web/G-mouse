{
 "cells": [
  {
   "cell_type": "code",
   "execution_count": null,
   "metadata": {},
   "outputs": [],
   "source": []
  }
 ],
 "metadata": {
  "kernelspec": {
   "display_name": "Python 3.10.8 64-bit",
   "language": "python",
   "name": "python3"
  },
  "language_info": {
   "name": "python",
   "version": "3.10.8"
  },
  "vscode": {
   "interpreter": {
    "hash": "93265e423565ac23dcd1f7fca894fa2ec1a042511b7f7c7bd9784ea19fe90334"
   }
  }
 },
 "nbformat": 4,
 "nbformat_minor": 5
}
